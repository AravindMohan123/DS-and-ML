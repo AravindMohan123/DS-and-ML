{
  "nbformat": 4,
  "nbformat_minor": 0,
  "metadata": {
    "colab": {
      "provenance": [],
      "authorship_tag": "ABX9TyM/Arflc13IhSDtM/B4bL4b",
      "include_colab_link": true
    },
    "kernelspec": {
      "name": "python3",
      "display_name": "Python 3"
    },
    "language_info": {
      "name": "python"
    }
  },
  "cells": [
    {
      "cell_type": "markdown",
      "metadata": {
        "id": "view-in-github",
        "colab_type": "text"
      },
      "source": [
        "<a href=\"https://colab.research.google.com/github/AravindMohan123/DS-and-ML/blob/main/q5.ipynb\" target=\"_parent\"><img src=\"https://colab.research.google.com/assets/colab-badge.svg\" alt=\"Open In Colab\"/></a>"
      ]
    },
    {
      "cell_type": "code",
      "execution_count": 4,
      "metadata": {
        "id": "ftUwCmytBiTn"
      },
      "outputs": [],
      "source": [
        "import numpy as npb"
      ]
    },
    {
      "cell_type": "code",
      "source": [
        "ar =npb.array([1,2,0,56,0,33,0])"
      ],
      "metadata": {
        "id": "QaUHTzSEBnET"
      },
      "execution_count": 7,
      "outputs": []
    },
    {
      "cell_type": "code",
      "source": [
        "listelem =[]\n",
        "for i in range(len(ar)):\n",
        "  if ar[i] == 0:\n",
        "    listelem.append(i)\n",
        "print(listelem)"
      ],
      "metadata": {
        "colab": {
          "base_uri": "https://localhost:8080/"
        },
        "id": "sT09gvFUB-Ma",
        "outputId": "f5375473-e457-4331-96ad-f68e4ffacfef"
      },
      "execution_count": 8,
      "outputs": [
        {
          "output_type": "stream",
          "name": "stdout",
          "text": [
            "[2, 4, 6]\n"
          ]
        }
      ]
    }
  ]
}